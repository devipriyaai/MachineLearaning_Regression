{
 "cells": [
  {
   "cell_type": "code",
   "execution_count": 31,
   "id": "f06ba449-dcfc-491a-b22d-c5e05426f4e1",
   "metadata": {},
   "outputs": [],
   "source": [
    "import pickle                         \n",
    "filename=\"finalized_model_tree.sav\" \n",
    "#save the best model"
   ]
  },
  {
   "cell_type": "code",
   "execution_count": 33,
   "id": "c9a06eff-4cb3-4eaa-8ce9-0c8086b1e46b",
   "metadata": {},
   "outputs": [],
   "source": [
    "loaded_model=pickle.load(open(\"finalized_model_tree.sav\",'rb'))\n",
    "sc=pickle.load(open(\"sc.pkl\",'rb'))\n",
    "scy=pickle.load(open(\"scy.pkl\",'rb'))"
   ]
  },
  {
   "cell_type": "code",
   "execution_count": 35,
   "id": "83bc7c6b-e077-4297-b8f2-700e21ae63ad",
   "metadata": {},
   "outputs": [
    {
     "name": "stderr",
     "output_type": "stream",
     "text": [
      "C:\\Anaconda3\\Lib\\site-packages\\sklearn\\utils\\validation.py:2739: UserWarning: X does not have valid feature names, but StandardScaler was fitted with feature names\n",
      "  warnings.warn(\n"
     ]
    }
   ],
   "source": [
    "preinput=sc.transform([[2345,1435,123,768,453]])"
   ]
  },
  {
   "cell_type": "code",
   "execution_count": 37,
   "id": "62cf9ea6-3fa5-4036-ade1-af3266dbe5a7",
   "metadata": {},
   "outputs": [],
   "source": [
    "result=loaded_model.predict(preinput)"
   ]
  },
  {
   "cell_type": "code",
   "execution_count": 39,
   "id": "308469ba-c4e0-4b5e-9217-aaa419a904cc",
   "metadata": {},
   "outputs": [
    {
     "data": {
      "text/plain": [
       "array([2.77234856])"
      ]
     },
     "execution_count": 39,
     "metadata": {},
     "output_type": "execute_result"
    }
   ],
   "source": [
    "result"
   ]
  },
  {
   "cell_type": "code",
   "execution_count": 41,
   "id": "9635aca3-cb6a-4d73-952f-3260526e08ff",
   "metadata": {},
   "outputs": [],
   "source": [
    "preoutput=scy.inverse_transform([result])"
   ]
  },
  {
   "cell_type": "code",
   "execution_count": 43,
   "id": "e2ff8562-80d5-469e-a4aa-09dca5a23a99",
   "metadata": {},
   "outputs": [
    {
     "data": {
      "text/plain": [
       "array([[46151.1245]])"
      ]
     },
     "execution_count": 43,
     "metadata": {},
     "output_type": "execute_result"
    }
   ],
   "source": [
    "preoutput"
   ]
  },
  {
   "cell_type": "code",
   "execution_count": null,
   "id": "4aa7c921-dde1-4d5f-8bea-36133e7587e2",
   "metadata": {},
   "outputs": [],
   "source": []
  }
 ],
 "metadata": {
  "kernelspec": {
   "display_name": "Python [conda env:base] *",
   "language": "python",
   "name": "conda-base-py"
  },
  "language_info": {
   "codemirror_mode": {
    "name": "ipython",
    "version": 3
   },
   "file_extension": ".py",
   "mimetype": "text/x-python",
   "name": "python",
   "nbconvert_exporter": "python",
   "pygments_lexer": "ipython3",
   "version": "3.12.7"
  }
 },
 "nbformat": 4,
 "nbformat_minor": 5
}
