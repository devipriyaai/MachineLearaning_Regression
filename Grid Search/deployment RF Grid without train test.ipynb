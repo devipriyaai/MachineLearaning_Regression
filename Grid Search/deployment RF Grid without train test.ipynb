{
 "cells": [
  {
   "cell_type": "code",
   "execution_count": 1,
   "id": "38c1ab0e-7311-424a-a7fd-983a8d1c691d",
   "metadata": {},
   "outputs": [],
   "source": [
    "import pickle                         \n",
    "filename=\"finalized_model_Random_Forest.sav\"         #save the best model"
   ]
  },
  {
   "cell_type": "code",
   "execution_count": 3,
   "id": "946e411c-c4ff-4c36-a5de-2f8fda291530",
   "metadata": {},
   "outputs": [],
   "source": [
    "loaded_model=pickle.load(open(\"finalized_model_Random_Forest.sav\",'rb'))       # loaded the model"
   ]
  },
  {
   "cell_type": "code",
   "execution_count": 5,
   "id": "69e1cf1d-059e-48f8-8564-a0b38fec45a6",
   "metadata": {},
   "outputs": [
    {
     "name": "stderr",
     "output_type": "stream",
     "text": [
      "C:\\Anaconda3\\Lib\\site-packages\\sklearn\\utils\\validation.py:2739: UserWarning: X does not have valid feature names, but RandomForestRegressor was fitted with feature names\n",
      "  warnings.warn(\n"
     ]
    }
   ],
   "source": [
    "result=loaded_model.predict([[2345,1435,123,768,453]])"
   ]
  },
  {
   "cell_type": "code",
   "execution_count": 7,
   "id": "3d38c554-6fa2-43ee-a60a-fb0795907c1f",
   "metadata": {},
   "outputs": [
    {
     "data": {
      "text/plain": [
       "array([48246.3247176])"
      ]
     },
     "execution_count": 7,
     "metadata": {},
     "output_type": "execute_result"
    }
   ],
   "source": [
    "result"
   ]
  },
  {
   "cell_type": "code",
   "execution_count": null,
   "id": "f165490f-ed21-4abd-8352-7d53ec65dbf8",
   "metadata": {},
   "outputs": [],
   "source": []
  }
 ],
 "metadata": {
  "kernelspec": {
   "display_name": "Python [conda env:base] *",
   "language": "python",
   "name": "conda-base-py"
  },
  "language_info": {
   "codemirror_mode": {
    "name": "ipython",
    "version": 3
   },
   "file_extension": ".py",
   "mimetype": "text/x-python",
   "name": "python",
   "nbconvert_exporter": "python",
   "pygments_lexer": "ipython3",
   "version": "3.12.7"
  }
 },
 "nbformat": 4,
 "nbformat_minor": 5
}
